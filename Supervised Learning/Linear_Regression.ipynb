{
  "nbformat": 4,
  "nbformat_minor": 0,
  "metadata": {
    "colab": {
      "provenance": [],
      "authorship_tag": "ABX9TyPGxzVsnJBowTGuxhT7ehUl",
      "include_colab_link": true
    },
    "kernelspec": {
      "name": "python3",
      "display_name": "Python 3"
    },
    "language_info": {
      "name": "python"
    }
  },
  "cells": [
    {
      "cell_type": "markdown",
      "metadata": {
        "id": "view-in-github",
        "colab_type": "text"
      },
      "source": [
        "<a href=\"https://colab.research.google.com/github/thatadi/cuddly-lamp/blob/main/Supervised%20Learning/Linear_Regression.ipynb\" target=\"_parent\"><img src=\"https://colab.research.google.com/assets/colab-badge.svg\" alt=\"Open In Colab\"/></a>"
      ]
    },
    {
      "cell_type": "code",
      "source": [
        "import pandas as pd\n",
        "import numpy as np\n",
        "import matplotlib.pyplot as plt\n",
        "from sklearn.preprocessing import OneHotEncoder\n",
        "from sklearn.model_selection import train_test_split\n",
        "from sklearn.linear_model import LinearRegression\n",
        "\n",
        "# Load function to read the data\n",
        "def load():\n",
        "    train = pd.read_csv('train_energy_data.csv')\n",
        "    test = pd.read_csv('test_energy_data.csv')\n",
        "    data = pd.DataFrame(pd.concat([train, test], axis=0, ignore_index=True))\n",
        "    return data\n",
        "\n",
        "data = load()\n",
        "\n",
        "# Function to clean, encode, and split the data\n",
        "def clean_encode_transform(data):\n",
        "    cat = data[['Building Type', 'Day of Week']]\n",
        "\n",
        "    # One-hot encoding\n",
        "    enc = OneHotEncoder(categories='auto', feature_name_combiner='concat', sparse_output=False)\n",
        "    enc_data = enc.fit_transform(cat)\n",
        "\n",
        "    # Drop the original categorical columns after encoding\n",
        "    data = data.drop(columns=['Building Type', 'Day of Week'])\n",
        "\n",
        "    # Concatenate the encoded data\n",
        "    encoded_df = pd.DataFrame(enc_data, columns=enc.get_feature_names_out(['Building Type', 'Day of Week']))\n",
        "    data = pd.concat([data, encoded_df], axis=1)\n",
        "\n",
        "    # Target variable\n",
        "    target = data['Energy Consumption']\n",
        "\n",
        "    # Drop the target variable column from data\n",
        "    data = data.drop(columns=['Energy Consumption'])\n",
        "\n",
        "    # Split data into train and test sets\n",
        "    x_train, x_test, y_train, y_test = train_test_split(data, target, test_size=0.2, random_state=42, shuffle=True)\n",
        "\n",
        "    return [x_train, x_test, y_train, y_test]\n",
        "\n",
        "# Model function to train and evaluate the linear regression model\n",
        "def model(data):\n",
        "    linear = LinearRegression()\n",
        "\n",
        "    # Fit the model on the training data\n",
        "    linear.fit(data[0], data[2])\n",
        "\n",
        "    # Evaluate the model by calculating the R^2 score on the test data\n",
        "    score = linear.score(data[1], data[3])\n",
        "\n",
        "    return score\n",
        "\n",
        "# Get cleaned, encoded, and split data, and evaluate the model\n",
        "score = model(clean_encode_transform(load()))\n",
        "print(f\"Model R^2 score: {score}\")\n"
      ],
      "metadata": {
        "id": "pwOoTOn8QidY",
        "outputId": "d7b8efce-eb42-4a32-b83e-167f5d0b0769",
        "colab": {
          "base_uri": "https://localhost:8080/"
        }
      },
      "execution_count": null,
      "outputs": [
        {
          "output_type": "stream",
          "name": "stdout",
          "text": [
            "Model R^2 score: 0.9999999997658856\n"
          ]
        }
      ]
    }
  ]
}